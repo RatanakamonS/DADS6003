{
  "nbformat": 4,
  "nbformat_minor": 0,
  "metadata": {
    "colab": {
      "provenance": [],
      "authorship_tag": "ABX9TyN6G4UYAIRqtQhb5daG9tE4",
      "include_colab_link": true
    },
    "kernelspec": {
      "name": "python3",
      "display_name": "Python 3"
    },
    "language_info": {
      "name": "python"
    }
  },
  "cells": [
    {
      "cell_type": "markdown",
      "metadata": {
        "id": "view-in-github",
        "colab_type": "text"
      },
      "source": [
        "<a href=\"https://colab.research.google.com/github/RatanakamonS/DADS6003/blob/main/HW3.ipynb\" target=\"_parent\"><img src=\"https://colab.research.google.com/assets/colab-badge.svg\" alt=\"Open In Colab\"/></a>"
      ]
    },
    {
      "cell_type": "markdown",
      "source": [
        "### Load Library\n"
      ],
      "metadata": {
        "id": "LkmYLTRS5pMd"
      }
    },
    {
      "cell_type": "code",
      "source": [
        "import pandas as pd\n",
        "import numpy as np\n",
        "from sklearn.model_selection import train_test_split\n",
        "from sklearn.preprocessing import OneHotEncoder\n",
        "from sklearn.compose import ColumnTransformer\n",
        "from sklearn.pipeline import Pipeline\n",
        "from sklearn.linear_model import LogisticRegression\n",
        "from sklearn.impute import SimpleImputer\n",
        "import shap\n",
        "import matplotlib.pyplot as plt"
      ],
      "metadata": {
        "id": "7mOJqvEJ5vbk"
      },
      "execution_count": null,
      "outputs": []
    },
    {
      "cell_type": "markdown",
      "source": [
        "### 1. Get data and clean data"
      ],
      "metadata": {
        "id": "CsUTMszC5x1x"
      }
    },
    {
      "cell_type": "code",
      "source": [
        "# Get data and clean data\n",
        "url = 'https://raw.githubusercontent.com/RatanakamonS/DADS6003/main/DB-%E0%B8%AA%E0%B8%B3%E0%B8%A3%E0%B8%A7%E0%B8%88%E0%B8%81%E0%B8%B2%E0%B8%A3%E0%B9%83%E0%B8%8A%E0%B9%89%20Smartphone%20(Responses)-Week5%20-%20Form%20Responses.csv'\n",
        "df = pd.read_csv(url)\n",
        "df = df.drop(columns=['Timestamp', 'จากข้อที่แล้ว เนื่องจากสาเหตุใด'])\n",
        "df = df.dropna()\n",
        "df = df[(df['เพศของผู้ตอบแบบสอบถาม'] != '-') & (df['อาชีพของผู้ตอบแบบสอบถาม'] != '.')]\n",
        "\n",
        "# เลือก target variable\n",
        "target = 'ปัจจุบันท่านใช้สมาร์ทโฟนระบบปฎิบัติการใด'\n",
        "\n",
        "# แปลง target เป็น binary (0: Android, 1: iOS)\n",
        "df[target] = df[target].map({'Android': 0, 'iOS': 1})\n",
        "\n",
        "# แยก features และ target\n",
        "X = df.drop(columns=[target])\n",
        "y = df[target]"
      ],
      "metadata": {
        "id": "71Teq8bL549w"
      },
      "execution_count": null,
      "outputs": []
    },
    {
      "cell_type": "markdown",
      "source": [
        "### 2. Train and Test split (70%, 30%)"
      ],
      "metadata": {
        "id": "g9hClckk6ZhX"
      }
    },
    {
      "cell_type": "code",
      "source": [
        "X_train, X_test, y_train, y_test = train_test_split(X, y, test_size=0.3, random_state=42)"
      ],
      "metadata": {
        "id": "3awt9CNU6kNd"
      },
      "execution_count": null,
      "outputs": []
    },
    {
      "cell_type": "markdown",
      "source": [
        "### 3. Logistic Regression"
      ],
      "metadata": {
        "id": "ZcChbAuP6nMG"
      }
    },
    {
      "cell_type": "code",
      "source": [
        "# สร้าง pipeline สำหรับ preprocessing และ model\n",
        "categorical_features = X.select_dtypes(include=['object']).columns\n",
        "numeric_features = X.select_dtypes(include=['int64', 'float64']).columns\n",
        "\n",
        "preprocessor = ColumnTransformer(\n",
        "    transformers=[\n",
        "        ('num', SimpleImputer(strategy='median'), numeric_features),\n",
        "        ('cat', OneHotEncoder(handle_unknown='ignore'), categorical_features)\n",
        "    ])\n",
        "\n",
        "model = Pipeline([\n",
        "    ('preprocessor', preprocessor),\n",
        "    ('classifier', LogisticRegression(random_state=42))\n",
        "])"
      ],
      "metadata": {
        "id": "ZgnYlRm-696u"
      },
      "execution_count": null,
      "outputs": []
    },
    {
      "cell_type": "markdown",
      "source": [
        "### 4.Train Model"
      ],
      "metadata": {
        "id": "1M4CtMBx7BDv"
      }
    },
    {
      "cell_type": "code",
      "source": [
        "model.fit(X_train, y_train)"
      ],
      "metadata": {
        "id": "IWpFENxC7Iu5"
      },
      "execution_count": null,
      "outputs": []
    },
    {
      "cell_type": "markdown",
      "source": [
        "### 5. SHAP Explain"
      ],
      "metadata": {
        "id": "mr7CL8PW7Mi4"
      }
    },
    {
      "cell_type": "markdown",
      "source": [
        "### 5.1 Build on X Train"
      ],
      "metadata": {
        "id": "iAxhpTVy7Yhx"
      }
    },
    {
      "cell_type": "code",
      "source": [
        "explainer = shap.LinearExplainer(model['classifier'], model['preprocessor'].transform(X_train))"
      ],
      "metadata": {
        "id": "dXcjFtXi7f81"
      },
      "execution_count": null,
      "outputs": []
    },
    {
      "cell_type": "markdown",
      "source": [
        "### 5.2 Explained X Test"
      ],
      "metadata": {
        "id": "OGkBDqbA7mkP"
      }
    },
    {
      "cell_type": "code",
      "source": [
        "shap_values = explainer(model['preprocessor'].transform(X_test))"
      ],
      "metadata": {
        "id": "mejvjWQC7sv1"
      },
      "execution_count": null,
      "outputs": []
    },
    {
      "cell_type": "markdown",
      "source": [
        "### 6. Results"
      ],
      "metadata": {
        "id": "S608pplg7xHR"
      }
    },
    {
      "cell_type": "markdown",
      "source": [
        "### 6.1 Rank Feature Importance"
      ],
      "metadata": {
        "id": "ImUf_KkE736r"
      }
    },
    {
      "cell_type": "code",
      "source": [
        "shap.summary_plot(shap_values, X_test, plot_type=\"bar\")"
      ],
      "metadata": {
        "id": "Cq5xc7va7-2Z"
      },
      "execution_count": null,
      "outputs": []
    },
    {
      "cell_type": "markdown",
      "source": [
        "### 6.2 Analyze one sample (Randomly) from test set"
      ],
      "metadata": {
        "id": "3Cq7wfKe8CW3"
      }
    },
    {
      "cell_type": "code",
      "execution_count": null,
      "metadata": {
        "id": "TbKse0xQ5kxR"
      },
      "outputs": [],
      "source": [
        "random_index = np.random.randint(0, len(X_test))\n",
        "random_sample = X_test.iloc[random_index]\n",
        "shap.force_plot(explainer.expected_value, shap_values[random_index,:], random_sample)\n",
        "\n",
        "# แสดงผลลัพธ์\n",
        "print(\"Model Accuracy:\", model.score(X_test, y_test))\n",
        "print(\"\\nRandom Sample Analysis:\")\n",
        "print(random_sample)\n",
        "print(\"\\nPrediction:\", \"iOS\" if model.predict(random_sample.to_frame().T)[0] == 1 else \"Android\")"
      ]
    }
  ]
}