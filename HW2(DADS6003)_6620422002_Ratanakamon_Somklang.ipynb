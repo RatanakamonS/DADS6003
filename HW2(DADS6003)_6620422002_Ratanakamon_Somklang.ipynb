{
  "nbformat": 4,
  "nbformat_minor": 0,
  "metadata": {
    "colab": {
      "provenance": [],
      "toc_visible": true,
      "authorship_tag": "ABX9TyM3y7LaPaHI75ZTX32bfWPX",
      "include_colab_link": true
    },
    "kernelspec": {
      "name": "python3",
      "display_name": "Python 3"
    },
    "language_info": {
      "name": "python"
    }
  },
  "cells": [
    {
      "cell_type": "markdown",
      "metadata": {
        "id": "view-in-github",
        "colab_type": "text"
      },
      "source": [
        "<a href=\"https://colab.research.google.com/github/RatanakamonS/DADS6003-2024-S_RTNKMN/blob/main/HW2(DADS6003)_6620422002_Ratanakamon_Somklang.ipynb\" target=\"_parent\"><img src=\"https://colab.research.google.com/assets/colab-badge.svg\" alt=\"Open In Colab\"/></a>"
      ]
    },
    {
      "cell_type": "markdown",
      "source": [
        "##6620422002 Ratanakamon Somklang"
      ],
      "metadata": {
        "id": "J02s8aklPK6x"
      }
    },
    {
      "cell_type": "markdown",
      "source": [
        "##1. Implement SGD, Mini-Batch from https://github.com/ekaratnida/Applied-machine-learning/blob/master/Week03-MLR/Lab3.ipynb"
      ],
      "metadata": {
        "id": "jNz7fjOeq8eA"
      }
    },
    {
      "cell_type": "code",
      "source": [
        "import numpy as np"
      ],
      "metadata": {
        "id": "c-d1GNQjTSlk"
      },
      "execution_count": 1,
      "outputs": []
    },
    {
      "cell_type": "code",
      "source": [
        "x = np.array([[2, 3, 6, 2], [5, 9, 7, 2], [1, 4, 2, 1], [8, 5, 3, 5]])  # x1, x2, x3, x4\n",
        "y = np.array([12, 9, 6, 7]).reshape(-1, 1)  # y"
      ],
      "metadata": {
        "id": "jtkasAoLCd4i"
      },
      "execution_count": 9,
      "outputs": []
    },
    {
      "cell_type": "markdown",
      "source": [
        "## 1.1 Stochastic Gradient Descent (sampling: N=1)"
      ],
      "metadata": {
        "id": "s-IJtXs1qm8h"
      }
    },
    {
      "cell_type": "code",
      "source": [
        "def cost_function(theta, x, y):\n",
        "    y_hat = x.dot(theta)\n",
        "    c = (1/len(y)) * np.sum((y_hat - y) ** 2)\n",
        "    return c"
      ],
      "metadata": {
        "id": "xqTo_TWrTVyP"
      },
      "execution_count": 3,
      "outputs": []
    },
    {
      "cell_type": "code",
      "source": [
        "def SGD(alpha, x, y, ep=0.001, max_iter=10000):\n",
        "    converged = False\n",
        "    iter = 0\n",
        "    N = x.shape[0]  # จำนวนตัวอย่าง (แนว row)\n",
        "    theta = np.random.random((x.shape[1], 1))  # ค่า theta เริ่มต้นด้วยค่า theta แบบสุ่ม\n",
        "\n",
        "    # ทำวนซ้ำเรื่อยๆ จะหยุดการทำงานเมื่อ (1)ค่า J < ค่า ep ที่กำหนด หรือ(2)จำนวนทำซ้ำ >= max_iter\n",
        "    while not converged:\n",
        "        for i in range(N):\n",
        "          #เลือกทุกคอลัมน์ในแถวที่ i ของเมทริกซ์หรืออาร์เรย์ x\n",
        "          #และ.reshape เพื่อเปลี่ยนรูปอาร์เรย์ใหม่(จำนวนแถวใหม่=1, -1 คือ รักษาความยาวหรือคอลัมน์เดิมของอาร์เรย์)\n",
        "            xi = x[i, :].reshape(1, -1)  # เลือกข้อมูลแถวที่ i ของเมทริกซ์ x และเปลี่ยนรูปอาร์เรย์\n",
        "\n",
        "          #เลือกค่าของ y ที่ตำแหน่ง i ในอาร์เรย์ y\n",
        "            yi = y[i]  # เลือกสมาชิกตัวที่ i เมทริกซ์ y\n",
        "\n",
        "          # คำนวณค่าคาดการณ์(y_hat)จากการคูณเมทริกซ์ระหว่าง xi และ theta\n",
        "            y_hat = xi.dot(theta)\n",
        "            diff = y_hat - yi # คำนวณความแตกต่าง diff ระหว่างค่าคาดการณ์(y_hat) และค่าจริง(yi)\n",
        "\n",
        "            grad = xi.T.dot(diff)\n",
        "            theta = theta - alpha * grad #อัปเดตค่า theta โดยใช้ gradient descent ในทุกๆตัวอย่าง xi ของชุดข้อมูล\n",
        "\n",
        "        # คำนวณค่า error หลังจากที่ได้ผ่านการประมวลผลข้อมูลทั้งหมดในชุดข้อมูลหนึ่งรอบ\n",
        "        J = cost_function(theta, x, y)\n",
        "\n",
        "        # ตรวจสอบการหยุดทำงาน\n",
        "        if J < ep or iter >= max_iter:\n",
        "            converged = True\n",
        "\n",
        "        iter += 1\n",
        "\n",
        "    return theta"
      ],
      "metadata": {
        "id": "VLx7OpDhTV8p"
      },
      "execution_count": 4,
      "outputs": []
    },
    {
      "cell_type": "code",
      "source": [
        "if __name__ == '__main__':\n",
        "\n",
        "    # เพิ่มคอลัมน์ของค่า 1 intercept term เข้าไปในเมทริกซ์\n",
        "    x_b = np.c_[np.ones((x.shape[0], 1)), x]\n",
        "\n",
        "    # Learning rate\n",
        "    alpha = 0.01\n",
        "\n",
        "    # Train the model โดยใช้ SGD\n",
        "    theta = SGD(alpha, x_b, y, ep=0.001, max_iter=10000)\n",
        "    print(\"Theta = \", theta)\n",
        "\n",
        "    # ลองแทนค่า x ทดสอบ ใน model เพื่อหาค่าพยากรณ์\n",
        "    xtest = np.array([[4, 9, 2, 3]])\n",
        "    xtest_b = np.c_[np.ones((xtest.shape[0], 1)), xtest]\n",
        "    y_p = xtest_b.dot(theta)\n",
        "    print(\"y predict = \", y_p)"
      ],
      "metadata": {
        "id": "Rax_1ayIrOUd",
        "colab": {
          "base_uri": "https://localhost:8080/"
        },
        "outputId": "17955715-0b65-4b7a-bdee-a8dfbc0f56f4"
      },
      "execution_count": 5,
      "outputs": [
        {
          "output_type": "stream",
          "name": "stdout",
          "text": [
            "Theta =  [[ 2.31201779]\n",
            " [-1.44855538]\n",
            " [ 0.02183636]\n",
            " [ 1.25737739]\n",
            " [ 2.47931444]]\n",
            "y predict =  [[6.6670216]]\n"
          ]
        }
      ]
    },
    {
      "cell_type": "markdown",
      "source": [
        "##1.2 Mini-Batch Gradient Descent (sampling:1 < n < N)"
      ],
      "metadata": {
        "id": "S_cU2fNPrH3b"
      }
    },
    {
      "cell_type": "code",
      "source": [
        "def cost_function(theta, x, y):\n",
        "    y_hat = x.dot(theta)\n",
        "    c = (1/len(y)) * np.sum((y_hat - y) ** 2)\n",
        "    return c"
      ],
      "metadata": {
        "id": "270eL7I-UsFL"
      },
      "execution_count": 6,
      "outputs": []
    },
    {
      "cell_type": "code",
      "source": [
        "def Mini_Batch_GD(alpha, x, y, batch_size=20, ep=0.001, max_iter=10000):\n",
        "    converged = False\n",
        "    iter = 0\n",
        "    N = x.shape[0]  # จำนวนตัวอย่าง (แนว row)\n",
        "    theta = np.random.random((x.shape[1], 1))  # ค่า theta เริ่มต้นด้วยค่า theta แบบสุ่ม\n",
        "\n",
        "    while not converged:\n",
        "        # สุ่มลำดับข้อมูลในชุดข้อมูล x และค่าผลลัพธ์ y โดยการจัดเรียงข้อมูลใหม่\n",
        "        index = np.arange(N)     # สร้างอาร์เรย์ที่ประกอบด้วยตัวเลขเรียงลำดับจาก 0 ถึง N-1\n",
        "        np.random.shuffle(index) # สุ่มลำดับของตัวเลขในอาร์เรย์ index\n",
        "        x_shuffled = x[index]    # สร้างเมทริกซ์ x_shuffled ที่มีลำดับแถวที่สอดคล้องกับลำดับใน index ที่ถูกสุ่ม\n",
        "        y_shuffled = y[index]\n",
        "\n",
        "        for start in range(0, N, batch_size): # start=0,stop=N,step=batch_size\n",
        "            end = min(start + batch_size, N)  # stop เวลาใช้สุ่มใหม่ #ใช้ min() เพื่อจำกัดไม่ให้เกิน N\n",
        "            x_batch = x_shuffled[start:end]   # ข้อมูลที่ถูกสุ่มจัดเรียงใหม่\n",
        "            y_batch = y_shuffled[start:end]\n",
        "\n",
        "            # คำนวณตามสูตร\n",
        "            y_hat = x_batch.dot(theta)\n",
        "            diff = y_hat - y_batch\n",
        "\n",
        "            grad = x_batch.T.dot(diff) / len(y_batch)\n",
        "            theta = theta - alpha * grad\n",
        "\n",
        "        # คำนวณค่า error หลังจากที่ได้ผ่านการประมวลผลข้อมูลทั้งหมดในชุดข้อมูลหนึ่งรอบ\n",
        "        J = cost_function(theta, x, y)\n",
        "\n",
        "        # ตรวจสอบการหยุดทำงาน\n",
        "        if J < ep or iter >= max_iter:\n",
        "            converged = True\n",
        "\n",
        "        iter += 1\n",
        "\n",
        "    return theta"
      ],
      "metadata": {
        "id": "H_coL34sUr0R"
      },
      "execution_count": 7,
      "outputs": []
    },
    {
      "cell_type": "code",
      "source": [
        "if __name__ == '__main__':\n",
        "\n",
        "    # เพิ่มคอลัมน์ของค่า 1 intercept term เข้าไปในเมทริกซ์\n",
        "    x_b = np.c_[np.ones((x.shape[0], 1)), x]\n",
        "\n",
        "    # Learning rate\n",
        "    alpha = 0.01\n",
        "\n",
        "    # Mini-batch size\n",
        "    batch_size = 2\n",
        "\n",
        "    # Train the model โดยใช้ Mini-batch Gradient Descent\n",
        "    theta = Mini_Batch_GD(alpha, x_b, y, batch_size=batch_size, ep=0.001, max_iter=10000)\n",
        "    print(\"Theta = \", theta)\n",
        "\n",
        "    # ลองแทนค่า x ทดสอบ ใน model เพื่อหาค่าพยากรณ์\n",
        "    xtest = np.array([[4, 9, 2, 3]])\n",
        "    xtest_b = np.c_[np.ones((xtest.shape[0], 1)), xtest]\n",
        "    y_p = xtest_b.dot(theta)\n",
        "    print(\"y predict = \", y_p)"
      ],
      "metadata": {
        "id": "Ndv1QHjerPrr",
        "colab": {
          "base_uri": "https://localhost:8080/"
        },
        "outputId": "f33714d6-6e50-4703-b5b1-25d5219d2906"
      },
      "execution_count": 8,
      "outputs": [
        {
          "output_type": "stream",
          "name": "stdout",
          "text": [
            "Theta =  [[ 2.40240331]\n",
            " [-1.41439332]\n",
            " [ 0.0038843 ]\n",
            " [ 1.25992938]\n",
            " [ 2.42324138]]\n",
            "y predict =  [[6.56937159]]\n"
          ]
        }
      ]
    }
  ]
}