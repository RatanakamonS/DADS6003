{
  "nbformat": 4,
  "nbformat_minor": 0,
  "metadata": {
    "kernelspec": {
      "display_name": "Python 3",
      "language": "python",
      "name": "python3"
    },
    "language_info": {
      "codemirror_mode": {
        "name": "ipython",
        "version": 3
      },
      "file_extension": ".py",
      "mimetype": "text/x-python",
      "name": "python",
      "nbconvert_exporter": "python",
      "pygments_lexer": "ipython3",
      "version": "3.7.4"
    },
    "colab": {
      "name": "week6-regularization.ipynb",
      "provenance": [],
      "include_colab_link": true
    }
  },
  "cells": [
    {
      "cell_type": "markdown",
      "metadata": {
        "id": "view-in-github",
        "colab_type": "text"
      },
      "source": [
        "<a href=\"https://colab.research.google.com/github/RatanakamonS/DADS6003/blob/main/Week06-Regularization/week6_regularization_usage.ipynb\" target=\"_parent\"><img src=\"https://colab.research.google.com/assets/colab-badge.svg\" alt=\"Open In Colab\"/></a>"
      ]
    },
    {
      "cell_type": "code",
      "metadata": {
        "id": "yeEl7_b2yKxe"
      },
      "source": [
        "from sklearn.linear_model import LinearRegression\n",
        "import matplotlib.pyplot as plt\n",
        "import numpy as np\n",
        "from sklearn.metrics import mean_squared_error\n",
        "from sklearn.preprocessing import PolynomialFeatures\n",
        "#np.set_printoptions(formatter={'float': lambda x: \"{0:0.2f}\".format(x)})"
      ],
      "execution_count": null,
      "outputs": []
    },
    {
      "cell_type": "code",
      "metadata": {
        "id": "jimdE0W9yKxg"
      },
      "source": [
        "X = np.array([[10, 15, 20, 25, 30]]).T\n",
        "y = np.array([[10, 30, 50, 51, 52]]).T"
      ],
      "execution_count": null,
      "outputs": []
    },
    {
      "cell_type": "code",
      "metadata": {
        "colab": {
          "base_uri": "https://localhost:8080/",
          "height": 348
        },
        "id": "tpHOqyx6yKxg",
        "outputId": "5a1ebb8f-31ac-4e68-88a6-de0ce4c4de19"
      },
      "source": [
        "linear = LinearRegression()\n",
        "linear.fit(X,y)\n",
        "print(\"Coef \", linear.coef_)\n",
        "print(\"Intercept \", linear.intercept_)\n",
        "print(\"R^2 \", linear.score(X,y))\n",
        "\n",
        "pred = linear.predict(X)\n",
        "print(\"MSE Linear = \", mean_squared_error(y,pred))\n",
        "\n",
        "plt.plot(X,y,'o')\n",
        "plt.plot(X,pred,'r-',label=\"linear regression\")\n",
        "plt.legend()\n",
        "plt.xlabel(\"x values\")\n",
        "plt.ylabel(\"y values\")\n",
        "plt.show()"
      ],
      "execution_count": null,
      "outputs": [
        {
          "output_type": "stream",
          "name": "stdout",
          "text": [
            "Coef  [[2.1]]\n",
            "Intercept  [-3.4]\n",
            "R^2  0.8135330578512396\n",
            "MSE Linear =  50.54\n"
          ]
        },
        {
          "output_type": "display_data",
          "data": {
            "text/plain": [
              "<Figure size 432x288 with 1 Axes>"
            ],
            "image/png": "[encoded data removed]"
          },
          "metadata": {
            "needs_background": "light"
          }
        }
      ]
    },
    {
      "cell_type": "code",
      "metadata": {
        "colab": {
          "base_uri": "https://localhost:8080/",
          "height": 522
        },
        "id": "4EVZK3wtyKxh",
        "outputId": "17b54f98-6cfb-4737-9820-a4998b08d695"
      },
      "source": [
        "poly_reg=PolynomialFeatures(degree=2)\n",
        "print(\"X \",X)\n",
        "\n",
        "X_poly = poly_reg.fit_transform(X)\n",
        "print(\"X_poly \", X_poly)\n",
        "\n",
        "lin_reg2=LinearRegression()\n",
        "lin_reg2.fit(X_poly,y)\n",
        "print(\"Coef \", lin_reg2.coef_)\n",
        "print(\"Intercept \", lin_reg2.intercept_)\n",
        "print(\"R^2 \", lin_reg2.score(X_poly,y))\n",
        "\n",
        "y_pred = lin_reg2.predict(X_poly)\n",
        "print(\"MSE polynomial = \", mean_squared_error(y,y_pred))\n",
        "\n",
        "plt.scatter(X,y)\n",
        "plt.plot(X,y_pred,'g-',label=\"Polynomial regression\")\n",
        "plt.legend()\n",
        "plt.xlabel(\"x values\")\n",
        "plt.ylabel(\"y values\")\n",
        "plt.show()"
      ],
      "execution_count": null,
      "outputs": [
        {
          "output_type": "stream",
          "name": "stdout",
          "text": [
            "X  [[10]\n",
            " [15]\n",
            " [20]\n",
            " [25]\n",
            " [30]]\n",
            "X_poly  [[  1.  10. 100.]\n",
            " [  1.  15. 225.]\n",
            " [  1.  20. 400.]\n",
            " [  1.  25. 625.]\n",
            " [  1.  30. 900.]]\n",
            "Coef  [[ 0.          8.61428571 -0.16285714]]\n",
            "Intercept  [-60.4]\n",
            "R^2  0.9847782088041829\n",
            "MSE polynomial =  4.125714285714279\n"
          ]
        },
        {
          "output_type": "display_data",
          "data": {
            "text/plain": [
              "<Figure size 432x288 with 1 Axes>"
            ],
            "image/png": "[encoded data removed]"
          },
          "metadata": {
            "needs_background": "light"
          }
        }
      ]
    },
    {
      "cell_type": "code",
      "metadata": {
        "colab": {
          "base_uri": "https://localhost:8080/",
          "height": 453
        },
        "id": "ylYFGHHRyKxh",
        "outputId": "3f826b3e-484e-4121-9fd8-048b9359859d"
      },
      "source": [
        "poly_reg=PolynomialFeatures(degree=4)\n",
        "#print(\"X \",X)\n",
        "\n",
        "X_poly = poly_reg.fit_transform(X)\n",
        "print(\"X_poly \", X_poly)\n",
        "\n",
        "lin_reg4=LinearRegression()\n",
        "lin_reg4.fit(X_poly,y)\n",
        "print(\"Coef \", lin_reg4.coef_)\n",
        "print(\"Intercept \", lin_reg4.intercept_)\n",
        "print(\"R^2 \", lin_reg4.score(X_poly,y))\n",
        "\n",
        "y_pred = lin_reg4.predict(X_poly)\n",
        "print(\"MSE polynomial = \", mean_squared_error(y,y_pred))\n",
        "\n",
        "plt.scatter(X,y)\n",
        "plt.plot(X,y_pred,'g-',label=\"Polynomial regression\")\n",
        "plt.legend()\n",
        "plt.xlabel(\"x values\")\n",
        "plt.ylabel(\"y values\")\n",
        "plt.show()\n",
        "\n"
      ],
      "execution_count": null,
      "outputs": [
        {
          "output_type": "stream",
          "name": "stdout",
          "text": [
            "X_poly  [[1.00000e+00 1.00000e+01 1.00000e+02 1.00000e+03 1.00000e+04]\n",
            " [1.00000e+00 1.50000e+01 2.25000e+02 3.37500e+03 5.06250e+04]\n",
            " [1.00000e+00 2.00000e+01 4.00000e+02 8.00000e+03 1.60000e+05]\n",
            " [1.00000e+00 2.50000e+01 6.25000e+02 1.56250e+04 3.90625e+05]\n",
            " [1.00000e+00 3.00000e+01 9.00000e+02 2.70000e+04 8.10000e+05]]\n",
            "Coef  [[ 0.00000000e+00 -6.12333333e+01  5.63666667e+00 -2.02666667e-01\n",
            "   2.53333333e-03]]\n",
            "Intercept  [236.00000005]\n",
            "R^2  1.0\n",
            "MSE polynomial =  2.120176627064361e-18\n"
          ]
        },
        {
          "output_type": "display_data",
          "data": {
            "text/plain": [
              "<Figure size 432x288 with 1 Axes>"
            ],
            "image/png": "[encoded data removed]"
          },
          "metadata": {
            "needs_background": "light"
          }
        }
      ]
    },
    {
      "cell_type": "markdown",
      "source": [
        "## Exercise\n",
        "### 1. Modify the previous code to plot non-linear curve on the figure above."
      ],
      "metadata": {
        "id": "JVXLKeYOprqm"
      }
    },
    {
      "cell_type": "markdown",
      "source": [
        "## Add ridge"
      ],
      "metadata": {
        "id": "ajplV9YZtj6Q"
      }
    },
    {
      "cell_type": "code",
      "metadata": {
        "colab": {
          "base_uri": "https://localhost:8080/",
          "height": 366
        },
        "id": "AHcixM_yyKxi",
        "outputId": "9a506c21-0aff-4ad8-af40-e87a442697e0"
      },
      "source": [
        "from sklearn.linear_model import Ridge\n",
        "\n",
        "clf = Ridge(alpha=100) # lambda in lecture, alpha in sklearn\n",
        "clf.fit(X_poly, y)\n",
        "\n",
        "print(\"Coef \", clf.coef_)\n",
        "print(\"Intercept \", clf.intercept_)\n",
        "print(\"R^2 \", clf.score(X_poly,y))\n",
        "\n",
        "y_pred = clf.predict(X_poly)\n",
        "print(\"MSE polynomial = \", mean_squared_error(y,y_pred))\n",
        "\n",
        "plt.scatter(X,y)\n",
        "plt.plot(X,y_pred,'b-',label=\"Polynomial ridge regression\")\n",
        "plt.legend()\n",
        "plt.xlabel(\"x values\")\n",
        "plt.ylabel(\"y values\")\n",
        "plt.show()\n",
        "\n",
        ""
      ],
      "execution_count": null,
      "outputs": [
        {
          "output_type": "stream",
          "name": "stdout",
          "text": [
            "Coef  [[ 0.00000000e+00  2.95491787e-02  3.89187304e-01 -1.43043157e-02\n",
            "   1.25571771e-04]]\n",
            "Intercept  [-15.47157322]\n",
            "R^2  0.9826830593881077\n",
            "MSE polynomial =  4.693583583447291\n"
          ]
        },
        {
          "output_type": "display_data",
          "data": {
            "text/plain": [
              "<Figure size 432x288 with 1 Axes>"
            ],
            "image/png": "[encoded data removed]"
          },
          "metadata": {
            "needs_background": "light"
          }
        }
      ]
    },
    {
      "cell_type": "code",
      "source": [
        "step = 10\n",
        "end = 100\n",
        "alphas = np.linspace(0, end, step)\n",
        "print(alphas)\n",
        "\n",
        "mse = []\n",
        "\n",
        "for a in alphas:\n",
        "    clf = Ridge(alpha=a) # lambda in lecture, alpha in sklearn\n",
        "    clf.fit(X_poly, y)\n",
        "    print(\" coef = \", clf.coef_)\n",
        "    print(\"Intercept \", clf.intercept_)\n",
        "    print(\"R^2 \", clf.score(X_poly,y))\n",
        "    mse.append(mean_squared_error(y,clf.predict(X_poly)))\n",
        "\n",
        "t = range(0, len(mse))\n",
        "print(type(t))\n",
        "print(mse)\n",
        "plt.bar(t,mse)\n"
      ],
      "metadata": {
        "id": "kq9vbaRcvDQC",
        "outputId": "73becd1b-4ea3-46ba-aeb1-8e30680e19a1",
        "colab": {
          "base_uri": "https://localhost:8080/",
          "height": 1000
        }
      },
      "execution_count": null,
      "outputs": [
        {
          "output_type": "stream",
          "name": "stdout",
          "text": [
            "[  0.          11.11111111  22.22222222  33.33333333  44.44444444\n",
            "  55.55555556  66.66666667  77.77777778  88.88888889 100.        ]\n",
            " coef =  [[ 0.00000000e+00 -6.12333333e+01  5.63666667e+00 -2.02666667e-01\n",
            "   2.53333333e-03]]\n",
            "Intercept  [236.00000005]\n",
            "R^2  1.0\n",
            " coef =  [[ 0.00000000e+00  2.35158914e-02  5.61276529e-01 -2.56935279e-02\n",
            "   3.25787658e-04]]\n",
            "Intercept  [-24.42109092]\n",
            "R^2  0.988417160819069\n",
            " coef =  [[ 0.00000000e+00  3.24203079e-02  5.31283584e-01 -2.37289573e-02\n",
            "   2.91367646e-04]]\n",
            "Intercept  [-22.92874195]\n",
            "R^2  0.9880231161997663\n",
            " coef =  [[ 0.00000000e+00  3.40278839e-02  5.04785134e-01 -2.19769957e-02\n",
            "   2.60579102e-04]]\n",
            "Intercept  [-21.55652515]\n",
            "R^2  0.9874638317487968\n",
            " coef =  [[ 0.00000000e+00  3.39550737e-02  4.80909757e-01 -2.03945045e-02\n",
            "   2.32746300e-04]]\n",
            "Intercept  [-20.30707859]\n",
            "R^2  0.9867887840749026\n",
            " coef =  [[ 0.00000000e+00  3.33047160e-02  4.59231228e-01 -1.89561056e-02\n",
            "   2.07439195e-04]]\n",
            "Intercept  [-19.16757695]\n",
            "R^2  0.9860350674940757\n",
            " coef =  [[ 0.00000000e+00  3.24308783e-02  4.39442743e-01 -1.76423868e-02\n",
            "   1.84321604e-04]]\n",
            "Intercept  [-18.12501277]\n",
            "R^2  0.9852300033079417\n",
            " coef =  [[ 0.00000000e+00  3.14760701e-02  4.21300761e-01 -1.64375786e-02\n",
            "   1.63118286e-04]]\n",
            "Intercept  [-17.16787152]\n",
            "R^2  0.9843937252120536\n",
            " coef =  [[ 0.00000000e+00  3.05050635e-02  4.04604905e-01 -1.53285696e-02\n",
            "   1.43599600e-04]]\n",
            "Intercept  [-16.2862288]\n",
            "R^2  0.9835410901438502\n",
            " coef =  [[ 0.00000000e+00  2.95491787e-02  3.89187304e-01 -1.43043157e-02\n",
            "   1.25571771e-04]]\n",
            "Intercept  [-15.47157322]\n",
            "R^2  0.9826830593881077\n",
            "<class 'range'>\n",
            "[2.3691082286126e-18, 3.1394127315995304, 3.24621458521532, 3.397803042806102, 3.580767964338423, 3.785055306405745, 4.003259903415459, 4.229924718525005, 4.4610229274108395, 4.693583583447291]\n"
          ]
        },
        {
          "output_type": "execute_result",
          "data": {
            "text/plain": [
              "<BarContainer object of 10 artists>"
            ]
          },
          "metadata": {},
          "execution_count": 7
        },
        {
          "output_type": "display_data",
          "data": {
            "text/plain": [
              "<Figure size 432x288 with 1 Axes>"
            ],
            "image/png": "[encoded data removed]"
          },
          "metadata": {
            "needs_background": "light"
          }
        }
      ]
    },
    {
      "cell_type": "code",
      "metadata": {
        "colab": {
          "base_uri": "https://localhost:8080/",
          "height": 1000
        },
        "id": "I8THA2VHyKxi",
        "outputId": "8ced9bd1-7cda-4aee-86d3-d481c87fdc98"
      },
      "source": [
        "from sklearn.linear_model import Lasso\n",
        "\n",
        "#print(X_poly)\n",
        "lambda_step = 10\n",
        "end = 10\n",
        "#Reason why setting alpha = 0 is not advised https://scikit-learn.org/stable/modules/generated/sklearn.linear_model.Lasso.html\n",
        "alphas = np.linspace(0.0, end, lambda_step)\n",
        "print(alphas)\n",
        "mse = []\n",
        "for a in alphas:\n",
        "    clf = Lasso(alpha=a)\n",
        "    clf.fit(X_poly, y)\n",
        "    print(\" coef = \", clf.coef_)\n",
        "    print(\"Intercept \", clf.intercept_)\n",
        "    print(\"R^2 \", clf.score(X_poly,y))\n",
        "    mse.append(mean_squared_error(y,clf.predict(X_poly)))\n",
        "t = range(0, len(mse))\n",
        "print(mse)\n",
        "plt.bar(t,mse)\n"
      ],
      "execution_count": null,
      "outputs": [
        {
          "output_type": "stream",
          "name": "stdout",
          "text": [
            "[ 0.          1.11111111  2.22222222  3.33333333  4.44444444  5.55555556\n",
            "  6.66666667  7.77777778  8.88888889 10.        ]\n",
            " coef =  [ 0.00000000e+00  7.36146511e+00 -9.21727475e-02 -1.41713635e-03\n",
            "  6.32731391e-06]\n",
            "Intercept  [-53.36160499]\n",
            "R^2  0.9847008458193587\n",
            " coef =  [ 0.00000000e+00  4.42630776e-01  2.29371589e-01 -4.75861071e-03\n",
            " -3.66234810e-05]\n",
            "Intercept  [-10.71488812]\n",
            "R^2  0.9730519073980379\n",
            " coef =  [ 0.00000000e+00  0.00000000e+00  2.55209515e-01 -5.22083185e-03\n",
            " -3.64393477e-05]\n",
            "Intercept  [-8.45724669]\n",
            "R^2  0.9721628339398083\n",
            " coef =  [ 0.00000000e+00  0.00000000e+00  2.53009005e-01 -5.08681727e-03\n",
            " -3.86273977e-05]\n",
            "Intercept  [-8.31922444]\n",
            "R^2  0.9719607526085701\n",
            " coef =  [ 0.00000000e+00  0.00000000e+00  2.49735085e-01 -4.88118210e-03\n",
            " -4.20819473e-05]\n",
            "Intercept  [-8.12599158]\n",
            "R^2  0.9716514559614823\n",
            " coef =  [ 0.00000000e+00  0.00000000e+00  2.46091488e-01 -4.65088118e-03\n",
            " -4.59726727e-05]\n",
            "Intercept  [-7.91374448]\n",
            "R^2  0.9713017315720593\n",
            " coef =  [ 0.00000000e+00  0.00000000e+00  2.42269746e-01 -4.40869397e-03\n",
            " -5.00735888e-05]\n",
            "Intercept  [-7.69233452]\n",
            "R^2  0.9709296199795594\n",
            " coef =  [ 0.00000000e+00  0.00000000e+00  2.38431821e-01 -4.16542694e-03\n",
            " -5.41935997e-05]\n",
            "Intercept  [-7.47009216]\n",
            "R^2  0.9705509186572266\n",
            " coef =  [ 0.00000000e+00  0.00000000e+00  2.34618756e-01 -3.92381871e-03\n",
            " -5.82842774e-05]\n",
            "Intercept  [-7.24912852]\n",
            "R^2  0.9701697633772498\n",
            " coef =  [ 0.00000000e+00  0.00000000e+00  2.30769412e-01 -3.67978984e-03\n",
            " -6.24177604e-05]\n",
            "Intercept  [-7.02629886]\n",
            "R^2  0.9697799319847562\n",
            "[4.146682749121031, 7.304011018835814, 7.544985488954367, 7.599757612973161, 7.683589376199845, 7.778378674709034, 7.87923580074023, 7.981879007145281, 8.08518733423021, 8.190847234851677]\n"
          ]
        },
        {
          "output_type": "stream",
          "name": "stderr",
          "text": [
            "/usr/local/lib/python3.7/dist-packages/ipykernel_launcher.py:11: UserWarning: With alpha=0, this algorithm does not converge well. You are advised to use the LinearRegression estimator\n",
            "  # This is added back by InteractiveShellApp.init_path()\n",
            "/usr/local/lib/python3.7/dist-packages/sklearn/linear_model/_coordinate_descent.py:648: UserWarning: Coordinate descent with no regularization may lead to unexpected results and is discouraged.\n",
            "  coef_, l1_reg, l2_reg, X, y, max_iter, tol, rng, random, positive\n",
            "/usr/local/lib/python3.7/dist-packages/sklearn/linear_model/_coordinate_descent.py:648: ConvergenceWarning: Objective did not converge. You might want to increase the number of iterations, check the scale of the features or consider increasing regularisation. Duality gap: 1.037e+01, tolerance: 1.355e-01 Linear regression models with null weight for the l1 regularization term are more efficiently fitted using one of the solvers implemented in sklearn.linear_model.Ridge/RidgeCV instead.\n",
            "  coef_, l1_reg, l2_reg, X, y, max_iter, tol, rng, random, positive\n",
            "/usr/local/lib/python3.7/dist-packages/sklearn/linear_model/_coordinate_descent.py:648: ConvergenceWarning: Objective did not converge. You might want to increase the number of iterations, check the scale of the features or consider increasing regularisation. Duality gap: 1.996e+01, tolerance: 1.355e-01\n",
            "  coef_, l1_reg, l2_reg, X, y, max_iter, tol, rng, random, positive\n",
            "/usr/local/lib/python3.7/dist-packages/sklearn/linear_model/_coordinate_descent.py:648: ConvergenceWarning: Objective did not converge. You might want to increase the number of iterations, check the scale of the features or consider increasing regularisation. Duality gap: 2.088e+01, tolerance: 1.355e-01\n",
            "  coef_, l1_reg, l2_reg, X, y, max_iter, tol, rng, random, positive\n",
            "/usr/local/lib/python3.7/dist-packages/sklearn/linear_model/_coordinate_descent.py:648: ConvergenceWarning: Objective did not converge. You might want to increase the number of iterations, check the scale of the features or consider increasing regularisation. Duality gap: 2.183e+01, tolerance: 1.355e-01\n",
            "  coef_, l1_reg, l2_reg, X, y, max_iter, tol, rng, random, positive\n",
            "/usr/local/lib/python3.7/dist-packages/sklearn/linear_model/_coordinate_descent.py:648: ConvergenceWarning: Objective did not converge. You might want to increase the number of iterations, check the scale of the features or consider increasing regularisation. Duality gap: 2.266e+01, tolerance: 1.355e-01\n",
            "  coef_, l1_reg, l2_reg, X, y, max_iter, tol, rng, random, positive\n",
            "/usr/local/lib/python3.7/dist-packages/sklearn/linear_model/_coordinate_descent.py:648: ConvergenceWarning: Objective did not converge. You might want to increase the number of iterations, check the scale of the features or consider increasing regularisation. Duality gap: 2.328e+01, tolerance: 1.355e-01\n",
            "  coef_, l1_reg, l2_reg, X, y, max_iter, tol, rng, random, positive\n",
            "/usr/local/lib/python3.7/dist-packages/sklearn/linear_model/_coordinate_descent.py:648: ConvergenceWarning: Objective did not converge. You might want to increase the number of iterations, check the scale of the features or consider increasing regularisation. Duality gap: 2.362e+01, tolerance: 1.355e-01\n",
            "  coef_, l1_reg, l2_reg, X, y, max_iter, tol, rng, random, positive\n",
            "/usr/local/lib/python3.7/dist-packages/sklearn/linear_model/_coordinate_descent.py:648: ConvergenceWarning: Objective did not converge. You might want to increase the number of iterations, check the scale of the features or consider increasing regularisation. Duality gap: 2.355e+01, tolerance: 1.355e-01\n",
            "  coef_, l1_reg, l2_reg, X, y, max_iter, tol, rng, random, positive\n",
            "/usr/local/lib/python3.7/dist-packages/sklearn/linear_model/_coordinate_descent.py:648: ConvergenceWarning: Objective did not converge. You might want to increase the number of iterations, check the scale of the features or consider increasing regularisation. Duality gap: 2.289e+01, tolerance: 1.355e-01\n",
            "  coef_, l1_reg, l2_reg, X, y, max_iter, tol, rng, random, positive\n",
            "/usr/local/lib/python3.7/dist-packages/sklearn/linear_model/_coordinate_descent.py:648: ConvergenceWarning: Objective did not converge. You might want to increase the number of iterations, check the scale of the features or consider increasing regularisation. Duality gap: 2.136e+01, tolerance: 1.355e-01\n",
            "  coef_, l1_reg, l2_reg, X, y, max_iter, tol, rng, random, positive\n"
          ]
        },
        {
          "output_type": "execute_result",
          "data": {
            "text/plain": [
              "<BarContainer object of 10 artists>"
            ]
          },
          "metadata": {},
          "execution_count": 8
        },
        {
          "output_type": "display_data",
          "data": {
            "text/plain": [
              "<Figure size 432x288 with 1 Axes>"
            ],
            "image/png": "[encoded data removed]"
          },
          "metadata": {
            "needs_background": "light"
          }
        }
      ]
    },
    {
      "cell_type": "code",
      "source": [
        "from sklearn.linear_model import ElasticNet\n",
        "\n",
        "n_alpha_step = 10\n",
        "end = 1\n",
        "alphas = np.linspace(0, end, n_alpha_step)\n",
        "print(alphas)\n",
        "mse = []\n",
        "for a in alphas:\n",
        "    clf = ElasticNet(l1_ratio=a)\n",
        "    clf.fit(X_poly, y)\n",
        "    print(\" coef = \", clf.coef_)\n",
        "    mse.append(mean_squared_error(y,clf.predict(X_poly)))\n",
        "t = range(0, len(mse))\n",
        "print(mse)\n",
        "plt.bar(t,mse)"
      ],
      "metadata": {
        "id": "dkMwuTDnMDa5",
        "outputId": "6e45d7da-2a4d-4ca8-bfe4-aec805ba9553",
        "colab": {
          "base_uri": "https://localhost:8080/",
          "height": 1000
        }
      },
      "execution_count": null,
      "outputs": [
        {
          "output_type": "stream",
          "name": "stdout",
          "text": [
            "[0.         0.11111111 0.22222222 0.33333333 0.44444444 0.55555556\n",
            " 0.66666667 0.77777778 0.88888889 1.        ]\n",
            " coef =  [ 0.00000000e+00  6.07811196e-01  2.33657420e-01 -5.36636000e-03\n",
            " -2.50103941e-05]\n",
            " coef =  [ 0.00000000e+00  5.68607638e-01  2.34970075e-01 -5.35205644e-03\n",
            " -2.58309551e-05]\n",
            " coef =  [ 0.00000000e+00  5.21123111e-01  2.36611262e-01 -5.33819625e-03\n",
            " -2.67629438e-05]\n",
            " coef =  [ 0.00000000e+00  4.63488062e-01  2.38639378e-01 -5.32405973e-03\n",
            " -2.78427112e-05]\n",
            " coef =  [ 0.00000000e+00  3.94436787e-01  2.41070053e-01 -5.30794703e-03\n",
            " -2.91108830e-05]\n",
            " coef =  [ 0.00000000e+00  3.15825589e-01  2.43747985e-01 -5.28549088e-03\n",
            " -3.06011997e-05]\n",
            " coef =  [ 0.00000000e+00  2.40243691e-01  2.45968943e-01 -5.24481623e-03\n",
            " -3.23073917e-05]\n",
            " coef =  [ 0.00000000e+00  2.12676725e-01  2.45488310e-01 -5.15763745e-03\n",
            " -3.40134994e-05]\n",
            " coef =  [ 0.00000000e+00  3.72888506e-01  2.35632228e-01 -4.94956346e-03\n",
            " -3.49025395e-05]\n",
            " coef =  [ 0.00000000e+00  1.12889483e+00  1.97587772e-01 -4.43431667e-03\n",
            " -3.22393643e-05]\n",
            "[6.89841611647292, 6.940032935403167, 6.989564287580204, 7.049266094288096, 7.121341053426977, 7.206202762598163, 7.296832517888899, 7.360371006163383, 7.287824012037603, 6.774831446660178]\n"
          ]
        },
        {
          "output_type": "stream",
          "name": "stderr",
          "text": [
            "/usr/local/lib/python3.7/dist-packages/sklearn/linear_model/_coordinate_descent.py:648: ConvergenceWarning: Objective did not converge. You might want to increase the number of iterations, check the scale of the features or consider increasing regularisation. Duality gap: 1.831e+01, tolerance: 1.355e-01 Linear regression models with null weight for the l1 regularization term are more efficiently fitted using one of the solvers implemented in sklearn.linear_model.Ridge/RidgeCV instead.\n",
            "  coef_, l1_reg, l2_reg, X, y, max_iter, tol, rng, random, positive\n",
            "/usr/local/lib/python3.7/dist-packages/sklearn/linear_model/_coordinate_descent.py:648: ConvergenceWarning: Objective did not converge. You might want to increase the number of iterations, check the scale of the features or consider increasing regularisation. Duality gap: 1.860e+01, tolerance: 1.355e-01\n",
            "  coef_, l1_reg, l2_reg, X, y, max_iter, tol, rng, random, positive\n",
            "/usr/local/lib/python3.7/dist-packages/sklearn/linear_model/_coordinate_descent.py:648: ConvergenceWarning: Objective did not converge. You might want to increase the number of iterations, check the scale of the features or consider increasing regularisation. Duality gap: 1.888e+01, tolerance: 1.355e-01\n",
            "  coef_, l1_reg, l2_reg, X, y, max_iter, tol, rng, random, positive\n",
            "/usr/local/lib/python3.7/dist-packages/sklearn/linear_model/_coordinate_descent.py:648: ConvergenceWarning: Objective did not converge. You might want to increase the number of iterations, check the scale of the features or consider increasing regularisation. Duality gap: 1.913e+01, tolerance: 1.355e-01\n",
            "  coef_, l1_reg, l2_reg, X, y, max_iter, tol, rng, random, positive\n",
            "/usr/local/lib/python3.7/dist-packages/sklearn/linear_model/_coordinate_descent.py:648: ConvergenceWarning: Objective did not converge. You might want to increase the number of iterations, check the scale of the features or consider increasing regularisation. Duality gap: 1.936e+01, tolerance: 1.355e-01\n",
            "  coef_, l1_reg, l2_reg, X, y, max_iter, tol, rng, random, positive\n",
            "/usr/local/lib/python3.7/dist-packages/sklearn/linear_model/_coordinate_descent.py:648: ConvergenceWarning: Objective did not converge. You might want to increase the number of iterations, check the scale of the features or consider increasing regularisation. Duality gap: 1.954e+01, tolerance: 1.355e-01\n",
            "  coef_, l1_reg, l2_reg, X, y, max_iter, tol, rng, random, positive\n",
            "/usr/local/lib/python3.7/dist-packages/sklearn/linear_model/_coordinate_descent.py:648: ConvergenceWarning: Objective did not converge. You might want to increase the number of iterations, check the scale of the features or consider increasing regularisation. Duality gap: 1.969e+01, tolerance: 1.355e-01\n",
            "  coef_, l1_reg, l2_reg, X, y, max_iter, tol, rng, random, positive\n",
            "/usr/local/lib/python3.7/dist-packages/sklearn/linear_model/_coordinate_descent.py:648: ConvergenceWarning: Objective did not converge. You might want to increase the number of iterations, check the scale of the features or consider increasing regularisation. Duality gap: 1.986e+01, tolerance: 1.355e-01\n",
            "  coef_, l1_reg, l2_reg, X, y, max_iter, tol, rng, random, positive\n",
            "/usr/local/lib/python3.7/dist-packages/sklearn/linear_model/_coordinate_descent.py:648: ConvergenceWarning: Objective did not converge. You might want to increase the number of iterations, check the scale of the features or consider increasing regularisation. Duality gap: 2.035e+01, tolerance: 1.355e-01\n",
            "  coef_, l1_reg, l2_reg, X, y, max_iter, tol, rng, random, positive\n",
            "/usr/local/lib/python3.7/dist-packages/sklearn/linear_model/_coordinate_descent.py:648: ConvergenceWarning: Objective did not converge. You might want to increase the number of iterations, check the scale of the features or consider increasing regularisation. Duality gap: 2.202e+01, tolerance: 1.355e-01\n",
            "  coef_, l1_reg, l2_reg, X, y, max_iter, tol, rng, random, positive\n"
          ]
        },
        {
          "output_type": "execute_result",
          "data": {
            "text/plain": [
              "<BarContainer object of 10 artists>"
            ]
          },
          "metadata": {},
          "execution_count": 9
        },
        {
          "output_type": "display_data",
          "data": {
            "text/plain": [
              "<Figure size 432x288 with 1 Axes>"
            ],
            "image/png": "[encoded data removed]"
          },
          "metadata": {
            "needs_background": "light"
          }
        }
      ]
    },
    {
      "cell_type": "code",
      "metadata": {
        "colab": {
          "base_uri": "https://localhost:8080/",
          "height": 1000
        },
        "id": "fkT5Es3_yKxi",
        "outputId": "78e61395-ebc1-4627-a133-8554cd90a221"
      },
      "source": [
        "# Author: Fabian Pedregosa -- <fabian.pedregosa@inria.fr>\n",
        "# License: BSD 3 clause\n",
        "\n",
        "print(__doc__)\n",
        "\n",
        "import numpy as np\n",
        "import matplotlib.pyplot as plt\n",
        "from sklearn import linear_model\n",
        "\n",
        "X = 1. / (np.arange(1, 11) + np.arange(0, 10)[:, np.newaxis])\n",
        "print(\"X \",X)\n",
        "\n",
        "y = np.ones(10)\n",
        "print(\"y \",y)\n",
        "# #############################################################################\n",
        "# Compute paths\n",
        "\n",
        "n_alphas = 100\n",
        "alphas = np.logspace(-10, -2, n_alphas)\n",
        "print(alphas)\n",
        "coefs = []\n",
        "for a in alphas:\n",
        "    ridge = linear_model.Ridge(alpha=a, fit_intercept=False)\n",
        "    ridge.fit(X, y)\n",
        "    coefs.append(ridge.coef_)\n",
        "    #print(coefs)\n",
        "\n",
        "# #############################################################################\n",
        "# Display results\n",
        "\n",
        "ax = plt.gca()\n",
        "\n",
        "ax.plot(alphas, coefs)\n",
        "ax.set_xscale('log')\n",
        "ax.set_xlim(ax.get_xlim()[::-1])  # reverse axis\n",
        "plt.xlabel('alpha')\n",
        "plt.ylabel('weights')\n",
        "plt.title('Ridge coefficients as a function of the regularization')\n",
        "plt.axis('tight')\n",
        "plt.show()"
      ],
      "execution_count": null,
      "outputs": [
        {
          "output_type": "stream",
          "name": "stdout",
          "text": [
            "Automatically created module for IPython interactive environment\n",
            "X  [[1.         0.5        0.33333333 0.25       0.2        0.16666667\n",
            "  0.14285714 0.125      0.11111111 0.1       ]\n",
            " [0.5        0.33333333 0.25       0.2        0.16666667 0.14285714\n",
            "  0.125      0.11111111 0.1        0.09090909]\n",
            " [0.33333333 0.25       0.2        0.16666667 0.14285714 0.125\n",
            "  0.11111111 0.1        0.09090909 0.08333333]\n",
            " [0.25       0.2        0.16666667 0.14285714 0.125      0.11111111\n",
            "  0.1        0.09090909 0.08333333 0.07692308]\n",
            " [0.2        0.16666667 0.14285714 0.125      0.11111111 0.1\n",
            "  0.09090909 0.08333333 0.07692308 0.07142857]\n",
            " [0.16666667 0.14285714 0.125      0.11111111 0.1        0.09090909\n",
            "  0.08333333 0.07692308 0.07142857 0.06666667]\n",
            " [0.14285714 0.125      0.11111111 0.1        0.09090909 0.08333333\n",
            "  0.07692308 0.07142857 0.06666667 0.0625    ]\n",
            " [0.125      0.11111111 0.1        0.09090909 0.08333333 0.07692308\n",
            "  0.07142857 0.06666667 0.0625     0.05882353]\n",
            " [0.11111111 0.1        0.09090909 0.08333333 0.07692308 0.07142857\n",
            "  0.06666667 0.0625     0.05882353 0.05555556]\n",
            " [0.1        0.09090909 0.08333333 0.07692308 0.07142857 0.06666667\n",
            "  0.0625     0.05882353 0.05555556 0.05263158]]\n",
            "y  [1. 1. 1. 1. 1. 1. 1. 1. 1. 1.]\n",
            "[1.00000000e-10 1.20450354e-10 1.45082878e-10 1.74752840e-10\n",
            " 2.10490414e-10 2.53536449e-10 3.05385551e-10 3.67837977e-10\n",
            " 4.43062146e-10 5.33669923e-10 6.42807312e-10 7.74263683e-10\n",
            " 9.32603347e-10 1.12332403e-09 1.35304777e-09 1.62975083e-09\n",
            " 1.96304065e-09 2.36448941e-09 2.84803587e-09 3.43046929e-09\n",
            " 4.13201240e-09 4.97702356e-09 5.99484250e-09 7.22080902e-09\n",
            " 8.69749003e-09 1.04761575e-08 1.26185688e-08 1.51991108e-08\n",
            " 1.83073828e-08 2.20513074e-08 2.65608778e-08 3.19926714e-08\n",
            " 3.85352859e-08 4.64158883e-08 5.59081018e-08 6.73415066e-08\n",
            " 8.11130831e-08 9.77009957e-08 1.17681195e-07 1.41747416e-07\n",
            " 1.70735265e-07 2.05651231e-07 2.47707636e-07 2.98364724e-07\n",
            " 3.59381366e-07 4.32876128e-07 5.21400829e-07 6.28029144e-07\n",
            " 7.56463328e-07 9.11162756e-07 1.09749877e-06 1.32194115e-06\n",
            " 1.59228279e-06 1.91791026e-06 2.31012970e-06 2.78255940e-06\n",
            " 3.35160265e-06 4.03701726e-06 4.86260158e-06 5.85702082e-06\n",
            " 7.05480231e-06 8.49753436e-06 1.02353102e-05 1.23284674e-05\n",
            " 1.48496826e-05 1.78864953e-05 2.15443469e-05 2.59502421e-05\n",
            " 3.12571585e-05 3.76493581e-05 4.53487851e-05 5.46227722e-05\n",
            " 6.57933225e-05 7.92482898e-05 9.54548457e-05 1.14975700e-04\n",
            " 1.38488637e-04 1.66810054e-04 2.00923300e-04 2.42012826e-04\n",
            " 2.91505306e-04 3.51119173e-04 4.22924287e-04 5.09413801e-04\n",
            " 6.13590727e-04 7.39072203e-04 8.90215085e-04 1.07226722e-03\n",
            " 1.29154967e-03 1.55567614e-03 1.87381742e-03 2.25701972e-03\n",
            " 2.71858824e-03 3.27454916e-03 3.94420606e-03 4.75081016e-03\n",
            " 5.72236766e-03 6.89261210e-03 8.30217568e-03 1.00000000e-02]\n"
          ]
        },
        {
          "output_type": "display_data",
          "data": {
            "text/plain": [
              "<Figure size 432x288 with 1 Axes>"
            ],
            "image/png": "[encoded data removed]"
          },
          "metadata": {
            "needs_background": "light"
          }
        }
      ]
    },
    {
      "cell_type": "code",
      "metadata": {
        "id": "JbwIwQLByKxj",
        "colab": {
          "base_uri": "https://localhost:8080/",
          "height": 1000
        },
        "outputId": "e5679b71-50de-4ecd-c266-872b54244e4b"
      },
      "source": [
        "# Author: Fabian Pedregosa -- <fabian.pedregosa@inria.fr>\n",
        "# License: BSD 3 clause\n",
        "\n",
        "print(__doc__)\n",
        "\n",
        "import numpy as np\n",
        "import matplotlib.pyplot as plt\n",
        "from sklearn import linear_model\n",
        "\n",
        "# X is the 10x10 Hilbert matrix\n",
        "X = 1. / (np.arange(1, 11) + np.arange(0, 10)[:, np.newaxis])\n",
        "print(X)\n",
        "y = np.ones(10)\n",
        "print(y)\n",
        "# #############################################################################\n",
        "# Compute paths\n",
        "\n",
        "n_alphas = 100\n",
        "alphas = np.logspace(-10, 0.1, n_alphas)\n",
        "print(alphas)\n",
        "coefs = []\n",
        "for a in alphas:\n",
        "    lasso = linear_model.Lasso(alpha=a, fit_intercept=False)\n",
        "    lasso.fit(X, y)\n",
        "    coefs.append(lasso.coef_)\n",
        "    #print(coefs)\n",
        "\n",
        "# #############################################################################\n",
        "# Display results\n",
        "\n",
        "ax = plt.gca()\n",
        "\n",
        "ax.plot(alphas, coefs)\n",
        "ax.set_xscale('log')\n",
        "ax.set_xlim(ax.get_xlim()[::-1])  # reverse axis\n",
        "plt.xlabel('alpha')\n",
        "plt.ylabel('weights')\n",
        "plt.title('Lasso coefficients as a function of the regularization')\n",
        "plt.axis('tight')\n",
        "plt.show()"
      ],
      "execution_count": null,
      "outputs": [
        {
          "output_type": "stream",
          "name": "stdout",
          "text": [
            "Automatically created module for IPython interactive environment\n",
            "[[1.         0.5        0.33333333 0.25       0.2        0.16666667\n",
            "  0.14285714 0.125      0.11111111 0.1       ]\n",
            " [0.5        0.33333333 0.25       0.2        0.16666667 0.14285714\n",
            "  0.125      0.11111111 0.1        0.09090909]\n",
            " [0.33333333 0.25       0.2        0.16666667 0.14285714 0.125\n",
            "  0.11111111 0.1        0.09090909 0.08333333]\n",
            " [0.25       0.2        0.16666667 0.14285714 0.125      0.11111111\n",
            "  0.1        0.09090909 0.08333333 0.07692308]\n",
            " [0.2        0.16666667 0.14285714 0.125      0.11111111 0.1\n",
            "  0.09090909 0.08333333 0.07692308 0.07142857]\n",
            " [0.16666667 0.14285714 0.125      0.11111111 0.1        0.09090909\n",
            "  0.08333333 0.07692308 0.07142857 0.06666667]\n",
            " [0.14285714 0.125      0.11111111 0.1        0.09090909 0.08333333\n",
            "  0.07692308 0.07142857 0.06666667 0.0625    ]\n",
            " [0.125      0.11111111 0.1        0.09090909 0.08333333 0.07692308\n",
            "  0.07142857 0.06666667 0.0625     0.05882353]\n",
            " [0.11111111 0.1        0.09090909 0.08333333 0.07692308 0.07142857\n",
            "  0.06666667 0.0625     0.05882353 0.05555556]\n",
            " [0.1        0.09090909 0.08333333 0.07692308 0.07142857 0.06666667\n",
            "  0.0625     0.05882353 0.05555556 0.05263158]]\n",
            "[1. 1. 1. 1. 1. 1. 1. 1. 1. 1.]\n",
            "[1.00000000e-10 1.26479518e-10 1.59970685e-10 2.02330151e-10\n",
            " 2.55906200e-10 3.23668929e-10 4.09374901e-10 5.17775402e-10\n",
            " 6.54879832e-10 8.28288856e-10 1.04761575e-09 1.32501936e-09\n",
            " 1.67587809e-09 2.11964254e-09 2.68091366e-09 3.39080668e-09\n",
            " 4.28867595e-09 5.42429667e-09 6.86062429e-09 8.67728453e-09\n",
            " 1.09749877e-08 1.38811115e-08 1.75567629e-08 2.22057091e-08\n",
            " 2.80856739e-08 3.55226249e-08 4.49288448e-08 5.68257864e-08\n",
            " 7.18729808e-08 9.09045997e-08 1.14975700e-07 1.45420711e-07\n",
            " 1.83927414e-07 2.32630507e-07 2.94229944e-07 3.72140615e-07\n",
            " 4.70681656e-07 5.95315890e-07 7.52952668e-07 9.52330906e-07\n",
            " 1.20450354e-06 1.52345027e-06 1.92685256e-06 2.43707383e-06\n",
            " 3.08239924e-06 3.89860370e-06 4.93093517e-06 6.23662304e-06\n",
            " 7.88805077e-06 9.97676859e-06 1.26185688e-05 1.59599050e-05\n",
            " 2.01860110e-05 2.55311694e-05 3.22917000e-05 4.08423865e-05\n",
            " 5.16572536e-05 6.53358454e-05 8.26364624e-05 1.04518199e-04\n",
            " 1.32194115e-04 1.67198479e-04 2.11471831e-04 2.67468552e-04\n",
            " 3.38292936e-04 4.27871275e-04 5.41169527e-04 6.84468609e-04\n",
            " 8.65712598e-04 1.09494912e-03 1.38488637e-03 1.75159761e-03\n",
            " 2.21541221e-03 2.80204269e-03 3.54401009e-03 4.48244688e-03\n",
            " 5.66937721e-03 7.17060097e-03 9.06934155e-03 1.14708595e-02\n",
            " 1.45082878e-02 1.83500125e-02 2.32090073e-02 2.93546406e-02\n",
            " 3.71276080e-02 4.69588196e-02 5.93932887e-02 7.51203453e-02\n",
            " 9.50118507e-02 1.20170531e-01 1.51991108e-01 1.92237621e-01\n",
            " 2.43141217e-01 3.07523839e-01 3.88954670e-01 4.91947992e-01\n",
            " 6.22213449e-01 7.86972571e-01 9.95359115e-01 1.25892541e+00]\n"
          ]
        },
        {
          "output_type": "stream",
          "name": "stderr",
          "text": [
            "/usr/local/lib/python3.7/dist-packages/sklearn/linear_model/_coordinate_descent.py:648: ConvergenceWarning: Objective did not converge. You might want to increase the number of iterations, check the scale of the features or consider increasing regularisation. Duality gap: 1.391e-02, tolerance: 1.000e-03\n",
            "  coef_, l1_reg, l2_reg, X, y, max_iter, tol, rng, random, positive\n",
            "/usr/local/lib/python3.7/dist-packages/sklearn/linear_model/_coordinate_descent.py:648: ConvergenceWarning: Objective did not converge. You might want to increase the number of iterations, check the scale of the features or consider increasing regularisation. Duality gap: 1.391e-02, tolerance: 1.000e-03\n",
            "  coef_, l1_reg, l2_reg, X, y, max_iter, tol, rng, random, positive\n",
            "/usr/local/lib/python3.7/dist-packages/sklearn/linear_model/_coordinate_descent.py:648: ConvergenceWarning: Objective did not converge. You might want to increase the number of iterations, check the scale of the features or consider increasing regularisation. Duality gap: 1.391e-02, tolerance: 1.000e-03\n",
            "  coef_, l1_reg, l2_reg, X, y, max_iter, tol, rng, random, positive\n",
            "/usr/local/lib/python3.7/dist-packages/sklearn/linear_model/_coordinate_descent.py:648: ConvergenceWarning: Objective did not converge. You might want to increase the number of iterations, check the scale of the features or consider increasing regularisation. Duality gap: 1.391e-02, tolerance: 1.000e-03\n",
            "  coef_, l1_reg, l2_reg, X, y, max_iter, tol, rng, random, positive\n",
            "/usr/local/lib/python3.7/dist-packages/sklearn/linear_model/_coordinate_descent.py:648: ConvergenceWarning: Objective did not converge. You might want to increase the number of iterations, check the scale of the features or consider increasing regularisation. Duality gap: 1.391e-02, tolerance: 1.000e-03\n",
            "  coef_, l1_reg, l2_reg, X, y, max_iter, tol, rng, random, positive\n",
            "/usr/local/lib/python3.7/dist-packages/sklearn/linear_model/_coordinate_descent.py:648: ConvergenceWarning: Objective did not converge. You might want to increase the number of iterations, check the scale of the features or consider increasing regularisation. Duality gap: 1.391e-02, tolerance: 1.000e-03\n",
            "  coef_, l1_reg, l2_reg, X, y, max_iter, tol, rng, random, positive\n",
            "/usr/local/lib/python3.7/dist-packages/sklearn/linear_model/_coordinate_descent.py:648: ConvergenceWarning: Objective did not converge. You might want to increase the number of iterations, check the scale of the features or consider increasing regularisation. Duality gap: 1.391e-02, tolerance: 1.000e-03\n",
            "  coef_, l1_reg, l2_reg, X, y, max_iter, tol, rng, random, positive\n",
            "/usr/local/lib/python3.7/dist-packages/sklearn/linear_model/_coordinate_descent.py:648: ConvergenceWarning: Objective did not converge. You might want to increase the number of iterations, check the scale of the features or consider increasing regularisation. Duality gap: 1.391e-02, tolerance: 1.000e-03\n",
            "  coef_, l1_reg, l2_reg, X, y, max_iter, tol, rng, random, positive\n",
            "/usr/local/lib/python3.7/dist-packages/sklearn/linear_model/_coordinate_descent.py:648: ConvergenceWarning: Objective did not converge. You might want to increase the number of iterations, check the scale of the features or consider increasing regularisation. Duality gap: 1.391e-02, tolerance: 1.000e-03\n",
            "  coef_, l1_reg, l2_reg, X, y, max_iter, tol, rng, random, positive\n",
            "/usr/local/lib/python3.7/dist-packages/sklearn/linear_model/_coordinate_descent.py:648: ConvergenceWarning: Objective did not converge. You might want to increase the number of iterations, check the scale of the features or consider increasing regularisation. Duality gap: 1.391e-02, tolerance: 1.000e-03\n",
            "  coef_, l1_reg, l2_reg, X, y, max_iter, tol, rng, random, positive\n",
            "/usr/local/lib/python3.7/dist-packages/sklearn/linear_model/_coordinate_descent.py:648: ConvergenceWarning: Objective did not converge. You might want to increase the number of iterations, check the scale of the features or consider increasing regularisation. Duality gap: 1.391e-02, tolerance: 1.000e-03\n",
            "  coef_, l1_reg, l2_reg, X, y, max_iter, tol, rng, random, positive\n",
            "/usr/local/lib/python3.7/dist-packages/sklearn/linear_model/_coordinate_descent.py:648: ConvergenceWarning: Objective did not converge. You might want to increase the number of iterations, check the scale of the features or consider increasing regularisation. Duality gap: 1.391e-02, tolerance: 1.000e-03\n",
            "  coef_, l1_reg, l2_reg, X, y, max_iter, tol, rng, random, positive\n",
            "/usr/local/lib/python3.7/dist-packages/sklearn/linear_model/_coordinate_descent.py:648: ConvergenceWarning: Objective did not converge. You might want to increase the number of iterations, check the scale of the features or consider increasing regularisation. Duality gap: 1.391e-02, tolerance: 1.000e-03\n",
            "  coef_, l1_reg, l2_reg, X, y, max_iter, tol, rng, random, positive\n",
            "/usr/local/lib/python3.7/dist-packages/sklearn/linear_model/_coordinate_descent.py:648: ConvergenceWarning: Objective did not converge. You might want to increase the number of iterations, check the scale of the features or consider increasing regularisation. Duality gap: 1.391e-02, tolerance: 1.000e-03\n",
            "  coef_, l1_reg, l2_reg, X, y, max_iter, tol, rng, random, positive\n",
            "/usr/local/lib/python3.7/dist-packages/sklearn/linear_model/_coordinate_descent.py:648: ConvergenceWarning: Objective did not converge. You might want to increase the number of iterations, check the scale of the features or consider increasing regularisation. Duality gap: 1.391e-02, tolerance: 1.000e-03\n",
            "  coef_, l1_reg, l2_reg, X, y, max_iter, tol, rng, random, positive\n",
            "/usr/local/lib/python3.7/dist-packages/sklearn/linear_model/_coordinate_descent.py:648: ConvergenceWarning: Objective did not converge. You might want to increase the number of iterations, check the scale of the features or consider increasing regularisation. Duality gap: 1.391e-02, tolerance: 1.000e-03\n",
            "  coef_, l1_reg, l2_reg, X, y, max_iter, tol, rng, random, positive\n",
            "/usr/local/lib/python3.7/dist-packages/sklearn/linear_model/_coordinate_descent.py:648: ConvergenceWarning: Objective did not converge. You might want to increase the number of iterations, check the scale of the features or consider increasing regularisation. Duality gap: 1.391e-02, tolerance: 1.000e-03\n",
            "  coef_, l1_reg, l2_reg, X, y, max_iter, tol, rng, random, positive\n",
            "/usr/local/lib/python3.7/dist-packages/sklearn/linear_model/_coordinate_descent.py:648: ConvergenceWarning: Objective did not converge. You might want to increase the number of iterations, check the scale of the features or consider increasing regularisation. Duality gap: 1.391e-02, tolerance: 1.000e-03\n",
            "  coef_, l1_reg, l2_reg, X, y, max_iter, tol, rng, random, positive\n",
            "/usr/local/lib/python3.7/dist-packages/sklearn/linear_model/_coordinate_descent.py:648: ConvergenceWarning: Objective did not converge. You might want to increase the number of iterations, check the scale of the features or consider increasing regularisation. Duality gap: 1.391e-02, tolerance: 1.000e-03\n",
            "  coef_, l1_reg, l2_reg, X, y, max_iter, tol, rng, random, positive\n",
            "/usr/local/lib/python3.7/dist-packages/sklearn/linear_model/_coordinate_descent.py:648: ConvergenceWarning: Objective did not converge. You might want to increase the number of iterations, check the scale of the features or consider increasing regularisation. Duality gap: 1.391e-02, tolerance: 1.000e-03\n",
            "  coef_, l1_reg, l2_reg, X, y, max_iter, tol, rng, random, positive\n",
            "/usr/local/lib/python3.7/dist-packages/sklearn/linear_model/_coordinate_descent.py:648: ConvergenceWarning: Objective did not converge. You might want to increase the number of iterations, check the scale of the features or consider increasing regularisation. Duality gap: 1.391e-02, tolerance: 1.000e-03\n",
            "  coef_, l1_reg, l2_reg, X, y, max_iter, tol, rng, random, positive\n",
            "/usr/local/lib/python3.7/dist-packages/sklearn/linear_model/_coordinate_descent.py:648: ConvergenceWarning: Objective did not converge. You might want to increase the number of iterations, check the scale of the features or consider increasing regularisation. Duality gap: 1.391e-02, tolerance: 1.000e-03\n",
            "  coef_, l1_reg, l2_reg, X, y, max_iter, tol, rng, random, positive\n",
            "/usr/local/lib/python3.7/dist-packages/sklearn/linear_model/_coordinate_descent.py:648: ConvergenceWarning: Objective did not converge. You might want to increase the number of iterations, check the scale of the features or consider increasing regularisation. Duality gap: 1.391e-02, tolerance: 1.000e-03\n",
            "  coef_, l1_reg, l2_reg, X, y, max_iter, tol, rng, random, positive\n",
            "/usr/local/lib/python3.7/dist-packages/sklearn/linear_model/_coordinate_descent.py:648: ConvergenceWarning: Objective did not converge. You might want to increase the number of iterations, check the scale of the features or consider increasing regularisation. Duality gap: 1.391e-02, tolerance: 1.000e-03\n",
            "  coef_, l1_reg, l2_reg, X, y, max_iter, tol, rng, random, positive\n",
            "/usr/local/lib/python3.7/dist-packages/sklearn/linear_model/_coordinate_descent.py:648: ConvergenceWarning: Objective did not converge. You might want to increase the number of iterations, check the scale of the features or consider increasing regularisation. Duality gap: 1.391e-02, tolerance: 1.000e-03\n",
            "  coef_, l1_reg, l2_reg, X, y, max_iter, tol, rng, random, positive\n",
            "/usr/local/lib/python3.7/dist-packages/sklearn/linear_model/_coordinate_descent.py:648: ConvergenceWarning: Objective did not converge. You might want to increase the number of iterations, check the scale of the features or consider increasing regularisation. Duality gap: 1.391e-02, tolerance: 1.000e-03\n",
            "  coef_, l1_reg, l2_reg, X, y, max_iter, tol, rng, random, positive\n",
            "/usr/local/lib/python3.7/dist-packages/sklearn/linear_model/_coordinate_descent.py:648: ConvergenceWarning: Objective did not converge. You might want to increase the number of iterations, check the scale of the features or consider increasing regularisation. Duality gap: 1.391e-02, tolerance: 1.000e-03\n",
            "  coef_, l1_reg, l2_reg, X, y, max_iter, tol, rng, random, positive\n",
            "/usr/local/lib/python3.7/dist-packages/sklearn/linear_model/_coordinate_descent.py:648: ConvergenceWarning: Objective did not converge. You might want to increase the number of iterations, check the scale of the features or consider increasing regularisation. Duality gap: 1.391e-02, tolerance: 1.000e-03\n",
            "  coef_, l1_reg, l2_reg, X, y, max_iter, tol, rng, random, positive\n",
            "/usr/local/lib/python3.7/dist-packages/sklearn/linear_model/_coordinate_descent.py:648: ConvergenceWarning: Objective did not converge. You might want to increase the number of iterations, check the scale of the features or consider increasing regularisation. Duality gap: 1.391e-02, tolerance: 1.000e-03\n",
            "  coef_, l1_reg, l2_reg, X, y, max_iter, tol, rng, random, positive\n",
            "/usr/local/lib/python3.7/dist-packages/sklearn/linear_model/_coordinate_descent.py:648: ConvergenceWarning: Objective did not converge. You might want to increase the number of iterations, check the scale of the features or consider increasing regularisation. Duality gap: 1.391e-02, tolerance: 1.000e-03\n",
            "  coef_, l1_reg, l2_reg, X, y, max_iter, tol, rng, random, positive\n",
            "/usr/local/lib/python3.7/dist-packages/sklearn/linear_model/_coordinate_descent.py:648: ConvergenceWarning: Objective did not converge. You might want to increase the number of iterations, check the scale of the features or consider increasing regularisation. Duality gap: 1.391e-02, tolerance: 1.000e-03\n",
            "  coef_, l1_reg, l2_reg, X, y, max_iter, tol, rng, random, positive\n",
            "/usr/local/lib/python3.7/dist-packages/sklearn/linear_model/_coordinate_descent.py:648: ConvergenceWarning: Objective did not converge. You might want to increase the number of iterations, check the scale of the features or consider increasing regularisation. Duality gap: 1.390e-02, tolerance: 1.000e-03\n",
            "  coef_, l1_reg, l2_reg, X, y, max_iter, tol, rng, random, positive\n",
            "/usr/local/lib/python3.7/dist-packages/sklearn/linear_model/_coordinate_descent.py:648: ConvergenceWarning: Objective did not converge. You might want to increase the number of iterations, check the scale of the features or consider increasing regularisation. Duality gap: 1.390e-02, tolerance: 1.000e-03\n",
            "  coef_, l1_reg, l2_reg, X, y, max_iter, tol, rng, random, positive\n",
            "/usr/local/lib/python3.7/dist-packages/sklearn/linear_model/_coordinate_descent.py:648: ConvergenceWarning: Objective did not converge. You might want to increase the number of iterations, check the scale of the features or consider increasing regularisation. Duality gap: 1.390e-02, tolerance: 1.000e-03\n",
            "  coef_, l1_reg, l2_reg, X, y, max_iter, tol, rng, random, positive\n",
            "/usr/local/lib/python3.7/dist-packages/sklearn/linear_model/_coordinate_descent.py:648: ConvergenceWarning: Objective did not converge. You might want to increase the number of iterations, check the scale of the features or consider increasing regularisation. Duality gap: 1.390e-02, tolerance: 1.000e-03\n",
            "  coef_, l1_reg, l2_reg, X, y, max_iter, tol, rng, random, positive\n",
            "/usr/local/lib/python3.7/dist-packages/sklearn/linear_model/_coordinate_descent.py:648: ConvergenceWarning: Objective did not converge. You might want to increase the number of iterations, check the scale of the features or consider increasing regularisation. Duality gap: 1.389e-02, tolerance: 1.000e-03\n",
            "  coef_, l1_reg, l2_reg, X, y, max_iter, tol, rng, random, positive\n",
            "/usr/local/lib/python3.7/dist-packages/sklearn/linear_model/_coordinate_descent.py:648: ConvergenceWarning: Objective did not converge. You might want to increase the number of iterations, check the scale of the features or consider increasing regularisation. Duality gap: 1.389e-02, tolerance: 1.000e-03\n",
            "  coef_, l1_reg, l2_reg, X, y, max_iter, tol, rng, random, positive\n",
            "/usr/local/lib/python3.7/dist-packages/sklearn/linear_model/_coordinate_descent.py:648: ConvergenceWarning: Objective did not converge. You might want to increase the number of iterations, check the scale of the features or consider increasing regularisation. Duality gap: 1.388e-02, tolerance: 1.000e-03\n",
            "  coef_, l1_reg, l2_reg, X, y, max_iter, tol, rng, random, positive\n",
            "/usr/local/lib/python3.7/dist-packages/sklearn/linear_model/_coordinate_descent.py:648: ConvergenceWarning: Objective did not converge. You might want to increase the number of iterations, check the scale of the features or consider increasing regularisation. Duality gap: 1.387e-02, tolerance: 1.000e-03\n",
            "  coef_, l1_reg, l2_reg, X, y, max_iter, tol, rng, random, positive\n",
            "/usr/local/lib/python3.7/dist-packages/sklearn/linear_model/_coordinate_descent.py:648: ConvergenceWarning: Objective did not converge. You might want to increase the number of iterations, check the scale of the features or consider increasing regularisation. Duality gap: 1.386e-02, tolerance: 1.000e-03\n",
            "  coef_, l1_reg, l2_reg, X, y, max_iter, tol, rng, random, positive\n",
            "/usr/local/lib/python3.7/dist-packages/sklearn/linear_model/_coordinate_descent.py:648: ConvergenceWarning: Objective did not converge. You might want to increase the number of iterations, check the scale of the features or consider increasing regularisation. Duality gap: 1.385e-02, tolerance: 1.000e-03\n",
            "  coef_, l1_reg, l2_reg, X, y, max_iter, tol, rng, random, positive\n",
            "/usr/local/lib/python3.7/dist-packages/sklearn/linear_model/_coordinate_descent.py:648: ConvergenceWarning: Objective did not converge. You might want to increase the number of iterations, check the scale of the features or consider increasing regularisation. Duality gap: 1.384e-02, tolerance: 1.000e-03\n",
            "  coef_, l1_reg, l2_reg, X, y, max_iter, tol, rng, random, positive\n",
            "/usr/local/lib/python3.7/dist-packages/sklearn/linear_model/_coordinate_descent.py:648: ConvergenceWarning: Objective did not converge. You might want to increase the number of iterations, check the scale of the features or consider increasing regularisation. Duality gap: 1.382e-02, tolerance: 1.000e-03\n",
            "  coef_, l1_reg, l2_reg, X, y, max_iter, tol, rng, random, positive\n",
            "/usr/local/lib/python3.7/dist-packages/sklearn/linear_model/_coordinate_descent.py:648: ConvergenceWarning: Objective did not converge. You might want to increase the number of iterations, check the scale of the features or consider increasing regularisation. Duality gap: 1.380e-02, tolerance: 1.000e-03\n",
            "  coef_, l1_reg, l2_reg, X, y, max_iter, tol, rng, random, positive\n",
            "/usr/local/lib/python3.7/dist-packages/sklearn/linear_model/_coordinate_descent.py:648: ConvergenceWarning: Objective did not converge. You might want to increase the number of iterations, check the scale of the features or consider increasing regularisation. Duality gap: 1.378e-02, tolerance: 1.000e-03\n",
            "  coef_, l1_reg, l2_reg, X, y, max_iter, tol, rng, random, positive\n",
            "/usr/local/lib/python3.7/dist-packages/sklearn/linear_model/_coordinate_descent.py:648: ConvergenceWarning: Objective did not converge. You might want to increase the number of iterations, check the scale of the features or consider increasing regularisation. Duality gap: 1.376e-02, tolerance: 1.000e-03\n",
            "  coef_, l1_reg, l2_reg, X, y, max_iter, tol, rng, random, positive\n",
            "/usr/local/lib/python3.7/dist-packages/sklearn/linear_model/_coordinate_descent.py:648: ConvergenceWarning: Objective did not converge. You might want to increase the number of iterations, check the scale of the features or consider increasing regularisation. Duality gap: 1.374e-02, tolerance: 1.000e-03\n",
            "  coef_, l1_reg, l2_reg, X, y, max_iter, tol, rng, random, positive\n",
            "/usr/local/lib/python3.7/dist-packages/sklearn/linear_model/_coordinate_descent.py:648: ConvergenceWarning: Objective did not converge. You might want to increase the number of iterations, check the scale of the features or consider increasing regularisation. Duality gap: 1.372e-02, tolerance: 1.000e-03\n",
            "  coef_, l1_reg, l2_reg, X, y, max_iter, tol, rng, random, positive\n",
            "/usr/local/lib/python3.7/dist-packages/sklearn/linear_model/_coordinate_descent.py:648: ConvergenceWarning: Objective did not converge. You might want to increase the number of iterations, check the scale of the features or consider increasing regularisation. Duality gap: 1.370e-02, tolerance: 1.000e-03\n",
            "  coef_, l1_reg, l2_reg, X, y, max_iter, tol, rng, random, positive\n",
            "/usr/local/lib/python3.7/dist-packages/sklearn/linear_model/_coordinate_descent.py:648: ConvergenceWarning: Objective did not converge. You might want to increase the number of iterations, check the scale of the features or consider increasing regularisation. Duality gap: 1.370e-02, tolerance: 1.000e-03\n",
            "  coef_, l1_reg, l2_reg, X, y, max_iter, tol, rng, random, positive\n",
            "/usr/local/lib/python3.7/dist-packages/sklearn/linear_model/_coordinate_descent.py:648: ConvergenceWarning: Objective did not converge. You might want to increase the number of iterations, check the scale of the features or consider increasing regularisation. Duality gap: 1.372e-02, tolerance: 1.000e-03\n",
            "  coef_, l1_reg, l2_reg, X, y, max_iter, tol, rng, random, positive\n",
            "/usr/local/lib/python3.7/dist-packages/sklearn/linear_model/_coordinate_descent.py:648: ConvergenceWarning: Objective did not converge. You might want to increase the number of iterations, check the scale of the features or consider increasing regularisation. Duality gap: 1.376e-02, tolerance: 1.000e-03\n",
            "  coef_, l1_reg, l2_reg, X, y, max_iter, tol, rng, random, positive\n",
            "/usr/local/lib/python3.7/dist-packages/sklearn/linear_model/_coordinate_descent.py:648: ConvergenceWarning: Objective did not converge. You might want to increase the number of iterations, check the scale of the features or consider increasing regularisation. Duality gap: 1.384e-02, tolerance: 1.000e-03\n",
            "  coef_, l1_reg, l2_reg, X, y, max_iter, tol, rng, random, positive\n",
            "/usr/local/lib/python3.7/dist-packages/sklearn/linear_model/_coordinate_descent.py:648: ConvergenceWarning: Objective did not converge. You might want to increase the number of iterations, check the scale of the features or consider increasing regularisation. Duality gap: 1.059e-02, tolerance: 1.000e-03\n",
            "  coef_, l1_reg, l2_reg, X, y, max_iter, tol, rng, random, positive\n",
            "/usr/local/lib/python3.7/dist-packages/sklearn/linear_model/_coordinate_descent.py:648: ConvergenceWarning: Objective did not converge. You might want to increase the number of iterations, check the scale of the features or consider increasing regularisation. Duality gap: 1.135e-02, tolerance: 1.000e-03\n",
            "  coef_, l1_reg, l2_reg, X, y, max_iter, tol, rng, random, positive\n",
            "/usr/local/lib/python3.7/dist-packages/sklearn/linear_model/_coordinate_descent.py:648: ConvergenceWarning: Objective did not converge. You might want to increase the number of iterations, check the scale of the features or consider increasing regularisation. Duality gap: 1.208e-02, tolerance: 1.000e-03\n",
            "  coef_, l1_reg, l2_reg, X, y, max_iter, tol, rng, random, positive\n",
            "/usr/local/lib/python3.7/dist-packages/sklearn/linear_model/_coordinate_descent.py:648: ConvergenceWarning: Objective did not converge. You might want to increase the number of iterations, check the scale of the features or consider increasing regularisation. Duality gap: 1.234e-02, tolerance: 1.000e-03\n",
            "  coef_, l1_reg, l2_reg, X, y, max_iter, tol, rng, random, positive\n",
            "/usr/local/lib/python3.7/dist-packages/sklearn/linear_model/_coordinate_descent.py:648: ConvergenceWarning: Objective did not converge. You might want to increase the number of iterations, check the scale of the features or consider increasing regularisation. Duality gap: 1.203e-02, tolerance: 1.000e-03\n",
            "  coef_, l1_reg, l2_reg, X, y, max_iter, tol, rng, random, positive\n",
            "/usr/local/lib/python3.7/dist-packages/sklearn/linear_model/_coordinate_descent.py:648: ConvergenceWarning: Objective did not converge. You might want to increase the number of iterations, check the scale of the features or consider increasing regularisation. Duality gap: 1.093e-02, tolerance: 1.000e-03\n",
            "  coef_, l1_reg, l2_reg, X, y, max_iter, tol, rng, random, positive\n",
            "/usr/local/lib/python3.7/dist-packages/sklearn/linear_model/_coordinate_descent.py:648: ConvergenceWarning: Objective did not converge. You might want to increase the number of iterations, check the scale of the features or consider increasing regularisation. Duality gap: 9.773e-03, tolerance: 1.000e-03\n",
            "  coef_, l1_reg, l2_reg, X, y, max_iter, tol, rng, random, positive\n",
            "/usr/local/lib/python3.7/dist-packages/sklearn/linear_model/_coordinate_descent.py:648: ConvergenceWarning: Objective did not converge. You might want to increase the number of iterations, check the scale of the features or consider increasing regularisation. Duality gap: 8.998e-03, tolerance: 1.000e-03\n",
            "  coef_, l1_reg, l2_reg, X, y, max_iter, tol, rng, random, positive\n",
            "/usr/local/lib/python3.7/dist-packages/sklearn/linear_model/_coordinate_descent.py:648: ConvergenceWarning: Objective did not converge. You might want to increase the number of iterations, check the scale of the features or consider increasing regularisation. Duality gap: 1.536e-02, tolerance: 1.000e-03\n",
            "  coef_, l1_reg, l2_reg, X, y, max_iter, tol, rng, random, positive\n",
            "/usr/local/lib/python3.7/dist-packages/sklearn/linear_model/_coordinate_descent.py:648: ConvergenceWarning: Objective did not converge. You might want to increase the number of iterations, check the scale of the features or consider increasing regularisation. Duality gap: 9.401e-03, tolerance: 1.000e-03\n",
            "  coef_, l1_reg, l2_reg, X, y, max_iter, tol, rng, random, positive\n",
            "/usr/local/lib/python3.7/dist-packages/sklearn/linear_model/_coordinate_descent.py:648: ConvergenceWarning: Objective did not converge. You might want to increase the number of iterations, check the scale of the features or consider increasing regularisation. Duality gap: 9.409e-03, tolerance: 1.000e-03\n",
            "  coef_, l1_reg, l2_reg, X, y, max_iter, tol, rng, random, positive\n",
            "/usr/local/lib/python3.7/dist-packages/sklearn/linear_model/_coordinate_descent.py:648: ConvergenceWarning: Objective did not converge. You might want to increase the number of iterations, check the scale of the features or consider increasing regularisation. Duality gap: 8.902e-03, tolerance: 1.000e-03\n",
            "  coef_, l1_reg, l2_reg, X, y, max_iter, tol, rng, random, positive\n",
            "/usr/local/lib/python3.7/dist-packages/sklearn/linear_model/_coordinate_descent.py:648: ConvergenceWarning: Objective did not converge. You might want to increase the number of iterations, check the scale of the features or consider increasing regularisation. Duality gap: 7.085e-03, tolerance: 1.000e-03\n",
            "  coef_, l1_reg, l2_reg, X, y, max_iter, tol, rng, random, positive\n",
            "/usr/local/lib/python3.7/dist-packages/sklearn/linear_model/_coordinate_descent.py:648: ConvergenceWarning: Objective did not converge. You might want to increase the number of iterations, check the scale of the features or consider increasing regularisation. Duality gap: 5.420e-03, tolerance: 1.000e-03\n",
            "  coef_, l1_reg, l2_reg, X, y, max_iter, tol, rng, random, positive\n",
            "/usr/local/lib/python3.7/dist-packages/sklearn/linear_model/_coordinate_descent.py:648: ConvergenceWarning: Objective did not converge. You might want to increase the number of iterations, check the scale of the features or consider increasing regularisation. Duality gap: 1.416e-02, tolerance: 1.000e-03\n",
            "  coef_, l1_reg, l2_reg, X, y, max_iter, tol, rng, random, positive\n",
            "/usr/local/lib/python3.7/dist-packages/sklearn/linear_model/_coordinate_descent.py:648: ConvergenceWarning: Objective did not converge. You might want to increase the number of iterations, check the scale of the features or consider increasing regularisation. Duality gap: 4.024e-03, tolerance: 1.000e-03\n",
            "  coef_, l1_reg, l2_reg, X, y, max_iter, tol, rng, random, positive\n",
            "/usr/local/lib/python3.7/dist-packages/sklearn/linear_model/_coordinate_descent.py:648: ConvergenceWarning: Objective did not converge. You might want to increase the number of iterations, check the scale of the features or consider increasing regularisation. Duality gap: 3.198e-03, tolerance: 1.000e-03\n",
            "  coef_, l1_reg, l2_reg, X, y, max_iter, tol, rng, random, positive\n",
            "/usr/local/lib/python3.7/dist-packages/sklearn/linear_model/_coordinate_descent.py:648: ConvergenceWarning: Objective did not converge. You might want to increase the number of iterations, check the scale of the features or consider increasing regularisation. Duality gap: 2.653e-03, tolerance: 1.000e-03\n",
            "  coef_, l1_reg, l2_reg, X, y, max_iter, tol, rng, random, positive\n",
            "/usr/local/lib/python3.7/dist-packages/sklearn/linear_model/_coordinate_descent.py:648: ConvergenceWarning: Objective did not converge. You might want to increase the number of iterations, check the scale of the features or consider increasing regularisation. Duality gap: 2.435e-03, tolerance: 1.000e-03\n",
            "  coef_, l1_reg, l2_reg, X, y, max_iter, tol, rng, random, positive\n",
            "/usr/local/lib/python3.7/dist-packages/sklearn/linear_model/_coordinate_descent.py:648: ConvergenceWarning: Objective did not converge. You might want to increase the number of iterations, check the scale of the features or consider increasing regularisation. Duality gap: 2.901e-03, tolerance: 1.000e-03\n",
            "  coef_, l1_reg, l2_reg, X, y, max_iter, tol, rng, random, positive\n",
            "/usr/local/lib/python3.7/dist-packages/sklearn/linear_model/_coordinate_descent.py:648: ConvergenceWarning: Objective did not converge. You might want to increase the number of iterations, check the scale of the features or consider increasing regularisation. Duality gap: 4.104e-03, tolerance: 1.000e-03\n",
            "  coef_, l1_reg, l2_reg, X, y, max_iter, tol, rng, random, positive\n",
            "/usr/local/lib/python3.7/dist-packages/sklearn/linear_model/_coordinate_descent.py:648: ConvergenceWarning: Objective did not converge. You might want to increase the number of iterations, check the scale of the features or consider increasing regularisation. Duality gap: 2.582e-03, tolerance: 1.000e-03\n",
            "  coef_, l1_reg, l2_reg, X, y, max_iter, tol, rng, random, positive\n",
            "/usr/local/lib/python3.7/dist-packages/sklearn/linear_model/_coordinate_descent.py:648: ConvergenceWarning: Objective did not converge. You might want to increase the number of iterations, check the scale of the features or consider increasing regularisation. Duality gap: 2.370e-03, tolerance: 1.000e-03\n",
            "  coef_, l1_reg, l2_reg, X, y, max_iter, tol, rng, random, positive\n"
          ]
        },
        {
          "output_type": "display_data",
          "data": {
            "text/plain": [
              "<Figure size 432x288 with 1 Axes>"
            ],
            "image/png": "[encoded data removed]"
          },
          "metadata": {
            "needs_background": "light"
          }
        }
      ]
    }
  ]
}